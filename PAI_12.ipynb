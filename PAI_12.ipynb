{
  "nbformat": 4,
  "nbformat_minor": 0,
  "metadata": {
    "colab": {
      "name": "PAI_12.ipynb",
      "provenance": [],
      "authorship_tag": "ABX9TyO80isBlRziHszPvAfj0FV6",
      "include_colab_link": true
    },
    "kernelspec": {
      "name": "python3",
      "display_name": "Python 3"
    },
    "language_info": {
      "name": "python"
    }
  },
  "cells": [
    {
      "cell_type": "markdown",
      "metadata": {
        "id": "view-in-github",
        "colab_type": "text"
      },
      "source": [
        "<a href=\"https://colab.research.google.com/github/miiiingi/algorithmstudy/blob/main/PAI_12.ipynb\" target=\"_parent\"><img src=\"https://colab.research.google.com/assets/colab-badge.svg\" alt=\"Open In Colab\"/></a>"
      ]
    },
    {
      "cell_type": "markdown",
      "source": [
        "Problem 1."
      ],
      "metadata": {
        "id": "4HO5OxlYvMqb"
      }
    },
    {
      "cell_type": "code",
      "execution_count": null,
      "metadata": {
        "id": "rbU37upovEFu"
      },
      "outputs": [],
      "source": [
        "class Solution:\n",
        "    def numIslands(self, grid: List[List[str]]) -> int:\n",
        "        cnt = 0 \n",
        "        def dfs(i, j, grid) : \n",
        "            if i >= len(grid) or j >= len(grid[i]) or grid[i][j] == '0' or i < 0 or j < 0 :\n",
        "                return\n",
        "            grid[i][j] = '0'\n",
        "            dfs(i + 1, j, grid)\n",
        "            dfs(i - 1, j, grid)\n",
        "            dfs(i, j + 1, grid)\n",
        "            dfs(i, j - 1, grid)\n",
        "        for i in range(len(grid)) : \n",
        "            for j in range(len(grid[i])) : \n",
        "                if grid[i][j] == '1' : \n",
        "                    cnt += 1\n",
        "                dfs(i, j, grid)\n",
        "        return cnt"
      ]
    },
    {
      "cell_type": "markdown",
      "source": [
        "Problem 2."
      ],
      "metadata": {
        "id": "g86s4ODkYE9e"
      }
    },
    {
      "cell_type": "code",
      "source": [
        "class Solution:\n",
        "    def letterCombinations(self, digits: str) -> List[str]:\n",
        "        answer = list()\n",
        "        letters ={\n",
        "            '2' : 'abc',\n",
        "            '3' : 'def',\n",
        "            '4' : 'ghi', \n",
        "            '5' : 'jkl',\n",
        "            '6' : 'mno',\n",
        "            '7' : 'pqrs',\n",
        "            '8' : 'tuv',\n",
        "            '9' : 'wxyz'}\n",
        "        length = len(digits) \n",
        "        accum = list() \n",
        "        def dfs(length, digits, accum) : \n",
        "            if len(accum) == length : \n",
        "                answer.append(accum)\n",
        "                accum.pop()\n",
        "                return\n",
        "            for ind, digit in enumerate(digits) : \n",
        "                for let in letters[digit] : \n",
        "                    accum.append(let) \n",
        "                    dfs(length, digits[ind+1:], accum)\n",
        "            accum.pop()\n",
        "        dfs(length, digits, accum)\n",
        "        print(answer)"
      ],
      "metadata": {
        "id": "hI4uKZWNYGIs"
      },
      "execution_count": null,
      "outputs": []
    }
  ]
}