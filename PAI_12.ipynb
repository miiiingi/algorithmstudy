{
  "nbformat": 4,
  "nbformat_minor": 0,
  "metadata": {
    "colab": {
      "name": "PAI_12.ipynb",
      "provenance": [],
      "authorship_tag": "ABX9TyNssAgRiJNpsgV2qBVnbVG/",
      "include_colab_link": true
    },
    "kernelspec": {
      "name": "python3",
      "display_name": "Python 3"
    },
    "language_info": {
      "name": "python"
    }
  },
  "cells": [
    {
      "cell_type": "markdown",
      "metadata": {
        "id": "view-in-github",
        "colab_type": "text"
      },
      "source": [
        "<a href=\"https://colab.research.google.com/github/miiiingi/algorithmstudy/blob/main/PAI_12.ipynb\" target=\"_parent\"><img src=\"https://colab.research.google.com/assets/colab-badge.svg\" alt=\"Open In Colab\"/></a>"
      ]
    },
    {
      "cell_type": "markdown",
      "source": [
        "Problem 1."
      ],
      "metadata": {
        "id": "4HO5OxlYvMqb"
      }
    },
    {
      "cell_type": "code",
      "execution_count": null,
      "metadata": {
        "id": "rbU37upovEFu"
      },
      "outputs": [],
      "source": [
        "class Solution:\n",
        "    def numIslands(self, grid: List[List[str]]) -> int:\n",
        "        cnt = 0 \n",
        "        def dfs(i, j, grid) : \n",
        "            if i >= len(grid) or j >= len(grid[i]) or grid[i][j] == '0' or i < 0 or j < 0 :\n",
        "                return\n",
        "            grid[i][j] = '0'\n",
        "            dfs(i + 1, j, grid)\n",
        "            dfs(i - 1, j, grid)\n",
        "            dfs(i, j + 1, grid)\n",
        "            dfs(i, j - 1, grid)\n",
        "        for i in range(len(grid)) : \n",
        "            for j in range(len(grid[i])) : \n",
        "                if grid[i][j] == '1' : \n",
        "                    cnt += 1\n",
        "                dfs(i, j, grid)\n",
        "        return cnt"
      ]
    }
  ]
}