{
  "nbformat": 4,
  "nbformat_minor": 0,
  "metadata": {
    "colab": {
      "name": "PAI - Ch6",
      "provenance": [],
      "authorship_tag": "ABX9TyPLljS7aXscJaK3xGG5dfRU",
      "include_colab_link": true
    },
    "kernelspec": {
      "name": "python3",
      "display_name": "Python 3"
    },
    "language_info": {
      "name": "python"
    }
  },
  "cells": [
    {
      "cell_type": "markdown",
      "metadata": {
        "id": "view-in-github",
        "colab_type": "text"
      },
      "source": [
        "<a href=\"https://colab.research.google.com/github/miiiingi/algorithmstudy/blob/main/PAI_Ch6.ipynb\" target=\"_parent\"><img src=\"https://colab.research.google.com/assets/colab-badge.svg\" alt=\"Open In Colab\"/></a>"
      ]
    },
    {
      "cell_type": "markdown",
      "source": [
        "Problem 1."
      ],
      "metadata": {
        "id": "4TOfsoccgCD9"
      }
    },
    {
      "cell_type": "code",
      "execution_count": null,
      "metadata": {
        "id": "gzlNkRVIdPCj"
      },
      "outputs": [],
      "source": [
        "class Solution:\n",
        "    def isPalindrome(self, s: str) -> bool:\n",
        "        s = s.lower()\n",
        "        s = re.sub(' ', '', s)\n",
        "        s = re.sub('[^a-zA-Z0-9]', '', s)\n",
        "        for comp1, comp2 in zip(s, s[::-1]) :\n",
        "            if comp1 != comp2 :\n",
        "                return False\n",
        "        return True"
      ]
    },
    {
      "cell_type": "markdown",
      "source": [
        "Problem 2."
      ],
      "metadata": {
        "id": "GoIrYU9wisKR"
      }
    },
    {
      "cell_type": "code",
      "source": [
        "class Solution:\n",
        "    def reverseString(self, s: List[str]) -> None:\n",
        "        for ind, r in enumerate(s[::-1]) :\n",
        "            s[ind] = r"
      ],
      "metadata": {
        "id": "XhqxVLJDirvF"
      },
      "execution_count": null,
      "outputs": []
    },
    {
      "cell_type": "markdown",
      "source": [
        "Problem 3."
      ],
      "metadata": {
        "id": "mXTuGNfXr7pb"
      }
    },
    {
      "cell_type": "code",
      "source": [
        "class Solution:\n",
        "    def reorderLogFiles(self, logs: List[str]) -> List[str]:\n",
        "        list_let = list()\n",
        "        list_dig = list()\n",
        "        list_answer = list()\n",
        "        for log in logs : \n",
        "            log_ = log.split()\n",
        "            if not log_[-1].isalpha() : \n",
        "                list_dig.append(log.split())\n",
        "            elif log_[-1].isalpha() : \n",
        "                list_let.append(log.split())\n",
        "        list_let = sorted(list_let, key = lambda x : (x[1:], x[0]))\n",
        "        list_new = list_let + list_dig\n",
        "        for elem in list_new :\n",
        "            answer = ''\n",
        "            for e in elem : \n",
        "                answer += f'{e} '\n",
        "            answer = answer.strip()\n",
        "            list_answer.append(answer)\n",
        "        return list_answer"
      ],
      "metadata": {
        "id": "fRMCJ1Ihr9qc"
      },
      "execution_count": null,
      "outputs": []
    },
    {
      "cell_type": "markdown",
      "source": [
        "Problem 4."
      ],
      "metadata": {
        "id": "iibQcifkqpUM"
      }
    },
    {
      "cell_type": "code",
      "source": [
        "class Solution:\n",
        "    def mostCommonWord(self, paragraph: str, banned: List[str]) -> str:\n",
        "        import collections\n",
        "        paragraph = paragraph.lower()\n",
        "        paragraph = re.sub('[^a-zA-Z0-9\\s]', ',', paragraph)\n",
        "        paragraph = re.sub('[\\s]', ',', paragraph)\n",
        "        paragraph = paragraph.split(',')\n",
        "        print(paragraph)\n",
        "        p = collections.Counter(paragraph)\n",
        "        num_max = 0\n",
        "        str_max = ''\n",
        "        for word_banned in banned : \n",
        "            if word_banned in p.keys() : \n",
        "                del p[word_banned]\n",
        "        for k, v in p.items() : \n",
        "            if k == '' :\n",
        "                continue\n",
        "            if v > num_max : \n",
        "                num_max = v\n",
        "                str_max = k\n",
        "        return str_max"
      ],
      "metadata": {
        "id": "XYPF2QeyqqgU"
      },
      "execution_count": null,
      "outputs": []
    },
    {
      "cell_type": "markdown",
      "source": [
        "Problem 5."
      ],
      "metadata": {
        "id": "3bLGnNJf3csu"
      }
    },
    {
      "cell_type": "code",
      "source": [
        "class Solution:\n",
        "    def groupAnagrams(self, strs: List[str]) -> List[List[str]]:\n",
        "        import collections\n",
        "        answer = collections.defaultdict(list)\n",
        "        for word in strs : \n",
        "            word_set = tuple(sorted(word))\n",
        "            answer[word_set].append(word)\n",
        "        return answer.values()"
      ],
      "metadata": {
        "id": "5HHRHV46PJ87"
      },
      "execution_count": null,
      "outputs": []
    },
    {
      "cell_type": "markdown",
      "source": [
        "Problem 6.- time exceed"
      ],
      "metadata": {
        "id": "d6RhxN4SzeFM"
      }
    },
    {
      "cell_type": "code",
      "source": [
        "class Solution:\n",
        "    def longestPalindrome(self, s: str) -> str:\n",
        "        for base in range(len(s)) : \n",
        "            length = len(s) - base\n",
        "            print(f'base : {base}, length : {length}')\n",
        "            for ind in range(0, base + 1) : \n",
        "                print(f'range : {ind} : {ind + length}')\n",
        "                accum = list()\n",
        "                s_ = s[ind : ind + length]\n",
        "                print(s_)\n",
        "                for comp1, comp2 in zip(s_, s_[::-1]) : \n",
        "                    if comp1 != comp2 : \n",
        "                        break\n",
        "                    else : \n",
        "                        accum.append(comp1)\n",
        "                if len(accum) == len(s_) : \n",
        "                    answer = ''\n",
        "                    for a in accum : \n",
        "                        answer += a\n",
        "                    return answer "
      ],
      "metadata": {
        "id": "PlOXbESBzelR"
      },
      "execution_count": null,
      "outputs": []
    }
  ]
}