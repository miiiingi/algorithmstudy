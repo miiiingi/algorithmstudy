{
  "nbformat": 4,
  "nbformat_minor": 0,
  "metadata": {
    "colab": {
      "name": "PAI - Ch6",
      "provenance": [],
      "authorship_tag": "ABX9TyPxvav7al1l2mGYFtgq54+W",
      "include_colab_link": true
    },
    "kernelspec": {
      "name": "python3",
      "display_name": "Python 3"
    },
    "language_info": {
      "name": "python"
    }
  },
  "cells": [
    {
      "cell_type": "markdown",
      "metadata": {
        "id": "view-in-github",
        "colab_type": "text"
      },
      "source": [
        "<a href=\"https://colab.research.google.com/github/miiiingi/algorithmstudy/blob/main/PAI_Ch6.ipynb\" target=\"_parent\"><img src=\"https://colab.research.google.com/assets/colab-badge.svg\" alt=\"Open In Colab\"/></a>"
      ]
    },
    {
      "cell_type": "markdown",
      "source": [
        "Problem 1."
      ],
      "metadata": {
        "id": "4TOfsoccgCD9"
      }
    },
    {
      "cell_type": "code",
      "execution_count": null,
      "metadata": {
        "id": "gzlNkRVIdPCj"
      },
      "outputs": [],
      "source": [
        "class Solution:\n",
        "    def isPalindrome(self, s: str) -> bool:\n",
        "        s = s.lower()\n",
        "        s = re.sub(' ', '', s)\n",
        "        s = re.sub('[^a-zA-Z0-9]', '', s)\n",
        "        for comp1, comp2 in zip(s, s[::-1]) :\n",
        "            if comp1 != comp2 :\n",
        "                return False\n",
        "        return True"
      ]
    }
  ]
}