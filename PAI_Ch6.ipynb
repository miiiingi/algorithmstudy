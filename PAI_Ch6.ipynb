{
  "nbformat": 4,
  "nbformat_minor": 0,
  "metadata": {
    "colab": {
      "name": "PAI - Ch6",
      "provenance": [],
      "authorship_tag": "ABX9TyPXuSAVwXBInT4Ik7xlAJDR",
      "include_colab_link": true
    },
    "kernelspec": {
      "name": "python3",
      "display_name": "Python 3"
    },
    "language_info": {
      "name": "python"
    }
  },
  "cells": [
    {
      "cell_type": "markdown",
      "metadata": {
        "id": "view-in-github",
        "colab_type": "text"
      },
      "source": [
        "<a href=\"https://colab.research.google.com/github/miiiingi/algorithmstudy/blob/main/PAI_Ch6.ipynb\" target=\"_parent\"><img src=\"https://colab.research.google.com/assets/colab-badge.svg\" alt=\"Open In Colab\"/></a>"
      ]
    },
    {
      "cell_type": "markdown",
      "source": [
        "Problem 1."
      ],
      "metadata": {
        "id": "4TOfsoccgCD9"
      }
    },
    {
      "cell_type": "code",
      "execution_count": null,
      "metadata": {
        "id": "gzlNkRVIdPCj"
      },
      "outputs": [],
      "source": [
        "class Solution:\n",
        "    def isPalindrome(self, s: str) -> bool:\n",
        "        s = s.lower()\n",
        "        s = re.sub(' ', '', s)\n",
        "        s = re.sub('[^a-zA-Z0-9]', '', s)\n",
        "        for comp1, comp2 in zip(s, s[::-1]) :\n",
        "            if comp1 != comp2 :\n",
        "                return False\n",
        "        return True"
      ]
    },
    {
      "cell_type": "markdown",
      "source": [
        "Problem 2."
      ],
      "metadata": {
        "id": "GoIrYU9wisKR"
      }
    },
    {
      "cell_type": "code",
      "source": [
        "class Solution:\n",
        "    def reverseString(self, s: List[str]) -> None:\n",
        "        for ind, r in enumerate(s[::-1]) :\n",
        "            s[ind] = r"
      ],
      "metadata": {
        "id": "XhqxVLJDirvF"
      },
      "execution_count": null,
      "outputs": []
    },
    {
      "cell_type": "markdown",
      "source": [
        "Problem 4."
      ],
      "metadata": {
        "id": "iibQcifkqpUM"
      }
    },
    {
      "cell_type": "code",
      "source": [
        "class Solution:\n",
        "    def mostCommonWord(self, paragraph: str, banned: List[str]) -> str:\n",
        "        import collections\n",
        "        paragraph = paragraph.lower()\n",
        "        paragraph = re.sub('[^a-zA-Z0-9\\s]', ',', paragraph)\n",
        "        paragraph = re.sub('[\\s]', ',', paragraph)\n",
        "        paragraph = paragraph.split(',')\n",
        "        print(paragraph)\n",
        "        p = collections.Counter(paragraph)\n",
        "        num_max = 0\n",
        "        str_max = ''\n",
        "        for word_banned in banned : \n",
        "            if word_banned in p.keys() : \n",
        "                del p[word_banned]\n",
        "        for k, v in p.items() : \n",
        "            if k == '' :\n",
        "                continue\n",
        "            if v > num_max : \n",
        "                num_max = v\n",
        "                str_max = k\n",
        "        return str_max"
      ],
      "metadata": {
        "id": "XYPF2QeyqqgU"
      },
      "execution_count": null,
      "outputs": []
    }
  ]
}